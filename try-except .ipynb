{
 "cells": [
  {
   "cell_type": "code",
   "execution_count": null,
   "id": "205a70fa",
   "metadata": {},
   "outputs": [],
   "source": [
    "# Try and except block syntax\n",
    "\n",
    "# try:\n",
    "#   Do something\n",
    "# except:\n",
    "#   print(\"An exception occurred\")"
   ]
  },
  {
   "cell_type": "code",
   "execution_count": 5,
   "id": "aaf61ae4",
   "metadata": {},
   "outputs": [],
   "source": [
    "import requests as req \n",
    "from config import weather_api_key "
   ]
  },
  {
   "cell_type": "code",
   "execution_count": 6,
   "id": "aae250dc",
   "metadata": {},
   "outputs": [],
   "source": [
    "url = \"http://api.openweathermap.org/data/2.5/weather?units=Imperial&APPID=\" + weather_api_key"
   ]
  },
  {
   "cell_type": "code",
   "execution_count": 7,
   "id": "a3368c6c",
   "metadata": {},
   "outputs": [],
   "source": [
    "cities = [\"Pittsburgh\", \"Austin\", \"New  York\", \"Los Angeles\", \"Seattle\"] \n",
    "# THis line purposefully has an extra space in \"New__York\" nstead of \"New_York\"\n",
    "# THis is so we cna do the try and except run through "
   ]
  },
  {
   "cell_type": "code",
   "execution_count": 10,
   "id": "f52e911a",
   "metadata": {},
   "outputs": [
    {
     "name": "stdout",
     "output_type": "stream",
     "text": [
      "It is currently 18.39 degrees in Pittsburgh\n",
      "It is currently 44.38 degrees in Austin\n"
     ]
    },
    {
     "ename": "KeyError",
     "evalue": "'main'",
     "output_type": "error",
     "traceback": [
      "\u001b[1;31m---------------------------------------------------------------------------\u001b[0m",
      "\u001b[1;31mKeyError\u001b[0m                                  Traceback (most recent call last)",
      "\u001b[1;32m~\\AppData\\Local\\Temp/ipykernel_24328/565984475.py\u001b[0m in \u001b[0;36m<module>\u001b[1;34m\u001b[0m\n\u001b[0;32m      2\u001b[0m     \u001b[0mcity_url\u001b[0m \u001b[1;33m=\u001b[0m \u001b[0murl\u001b[0m \u001b[1;33m+\u001b[0m \u001b[1;34m\"&q=\"\u001b[0m \u001b[1;33m+\u001b[0m \u001b[0mcity\u001b[0m\u001b[1;33m\u001b[0m\u001b[1;33m\u001b[0m\u001b[0m\n\u001b[0;32m      3\u001b[0m     \u001b[0mweather\u001b[0m \u001b[1;33m=\u001b[0m \u001b[0mreq\u001b[0m\u001b[1;33m.\u001b[0m\u001b[0mget\u001b[0m\u001b[1;33m(\u001b[0m\u001b[0mcity_url\u001b[0m\u001b[1;33m)\u001b[0m\u001b[1;33m.\u001b[0m\u001b[0mjson\u001b[0m\u001b[1;33m(\u001b[0m\u001b[1;33m)\u001b[0m\u001b[1;33m\u001b[0m\u001b[1;33m\u001b[0m\u001b[0m\n\u001b[1;32m----> 4\u001b[1;33m     \u001b[0mtemp\u001b[0m \u001b[1;33m=\u001b[0m \u001b[0mweather\u001b[0m\u001b[1;33m[\u001b[0m\u001b[1;34m\"main\"\u001b[0m\u001b[1;33m]\u001b[0m\u001b[1;33m[\u001b[0m\u001b[1;34m\"temp\"\u001b[0m\u001b[1;33m]\u001b[0m\u001b[1;33m\u001b[0m\u001b[1;33m\u001b[0m\u001b[0m\n\u001b[0m\u001b[0;32m      5\u001b[0m     \u001b[0mprint\u001b[0m\u001b[1;33m(\u001b[0m\u001b[1;34m\"It is currently \"\u001b[0m\u001b[1;33m+\u001b[0m \u001b[0mstr\u001b[0m\u001b[1;33m(\u001b[0m\u001b[0mtemp\u001b[0m\u001b[1;33m)\u001b[0m \u001b[1;33m+\u001b[0m \u001b[1;34m\" degrees in \"\u001b[0m \u001b[1;33m+\u001b[0m \u001b[0mcity\u001b[0m\u001b[1;33m)\u001b[0m\u001b[1;33m\u001b[0m\u001b[1;33m\u001b[0m\u001b[0m\n\u001b[0;32m      6\u001b[0m \u001b[1;31m# Note that when calling a json file, you need to use [] brackets instead of ()\u001b[0m\u001b[1;33m\u001b[0m\u001b[1;33m\u001b[0m\u001b[0m\n",
      "\u001b[1;31mKeyError\u001b[0m: 'main'"
     ]
    }
   ],
   "source": [
    "for city in cities: \n",
    "    city_url = url + \"&q=\" + city \n",
    "    weather = req.get(city_url).json()\n",
    "    temp = weather[\"main\"][\"temp\"]\n",
    "    print(\"It is currently \"+ str(temp) + \" degrees in \" + city)\n",
    "# Note that when calling a json file, you need to use [] brackets instead of () "
   ]
  },
  {
   "cell_type": "code",
   "execution_count": 11,
   "id": "396be6be",
   "metadata": {},
   "outputs": [
    {
     "name": "stdout",
     "output_type": "stream",
     "text": [
      "It is currently 18.39 degrees in Pittsburgh\n",
      "It is currently 44.38 degrees in Austin\n",
      "Key Error recieved for New  York\n",
      "It is currently 44.38 degrees in New  York\n",
      "It is currently 59.36 degrees in Los Angeles\n",
      "It is currently 40.89 degrees in Seattle\n"
     ]
    }
   ],
   "source": [
    "# We are going to make a try and except block instead of fixing the error \n",
    "\n",
    "for city in cities:\n",
    "    try: \n",
    "        city_url = url + \"&q=\" + city \n",
    "        weather = req.get(city_url).json()\n",
    "        temp = weather[\"main\"][\"temp\"]\n",
    "    except KeyError:\n",
    "        print(\"Key Error recieved for \" + city)\n",
    "    print(\"It is currently \"+ str(temp) + \" degrees in \" + city)"
   ]
  },
  {
   "cell_type": "code",
   "execution_count": 12,
   "id": "9f4dd279",
   "metadata": {},
   "outputs": [
    {
     "name": "stdout",
     "output_type": "stream",
     "text": [
      "It is currently 18.39 degrees in Pittsburgh\n",
      "It is currently 44.38 degrees in Austin\n",
      "Key Error recieved for New  York\n",
      "It is currently 59.36 degrees in Los Angeles\n",
      "It is currently 40.89 degrees in Seattle\n"
     ]
    }
   ],
   "source": [
    "# We are going to make a try and except block instead of fixing the error \n",
    "# We don't want the key error line to even run, but it did above, so we have \n",
    "# to include the continue command\n",
    "\n",
    "for city in cities:\n",
    "    try: \n",
    "        city_url = url + \"&q=\" + city \n",
    "        weather = req.get(city_url).json()\n",
    "        temp = weather[\"main\"][\"temp\"]\n",
    "    except KeyError:\n",
    "        print(\"Key Error recieved for \" + city)\n",
    "        continue\n",
    "    print(\"It is currently \"+ str(temp) + \" degrees in \" + city)\n",
    "\n",
    "    # continue tells the code to stop looking at the loop at this point \n",
    "    # but keep running the loop for the other iterations "
   ]
  }
 ],
 "metadata": {
  "kernelspec": {
   "display_name": "PythonData",
   "language": "python",
   "name": "pythondata"
  },
  "language_info": {
   "codemirror_mode": {
    "name": "ipython",
    "version": 3
   },
   "file_extension": ".py",
   "mimetype": "text/x-python",
   "name": "python",
   "nbconvert_exporter": "python",
   "pygments_lexer": "ipython3",
   "version": "3.9.7"
  }
 },
 "nbformat": 4,
 "nbformat_minor": 5
}
