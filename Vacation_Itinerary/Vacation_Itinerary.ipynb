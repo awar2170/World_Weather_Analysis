{
 "cells": [
  {
   "cell_type": "markdown",
   "metadata": {},
   "source": [
    "## Deliverable 3. Create a Travel Itinerary Map."
   ]
  },
  {
   "cell_type": "code",
   "execution_count": 1,
   "metadata": {},
   "outputs": [],
   "source": [
    "# Dependencies and Setup\n",
    "import pandas as pd\n",
    "import requests\n",
    "import gmaps\n",
    "\n",
    "# Import API key\n",
    "from config import g_key\n",
    "\n",
    "# Configure gmaps\n",
    "gmaps.configure(api_key=g_key)"
   ]
  },
  {
   "cell_type": "code",
   "execution_count": 30,
   "metadata": {},
   "outputs": [
    {
     "data": {
      "text/html": [
       "<div>\n",
       "<style scoped>\n",
       "    .dataframe tbody tr th:only-of-type {\n",
       "        vertical-align: middle;\n",
       "    }\n",
       "\n",
       "    .dataframe tbody tr th {\n",
       "        vertical-align: top;\n",
       "    }\n",
       "\n",
       "    .dataframe thead th {\n",
       "        text-align: right;\n",
       "    }\n",
       "</style>\n",
       "<table border=\"1\" class=\"dataframe\">\n",
       "  <thead>\n",
       "    <tr style=\"text-align: right;\">\n",
       "      <th></th>\n",
       "      <th>City_ID</th>\n",
       "      <th>City</th>\n",
       "      <th>Country</th>\n",
       "      <th>Max Temp</th>\n",
       "      <th>Current Description</th>\n",
       "      <th>Lat</th>\n",
       "      <th>Lng</th>\n",
       "      <th>Hotel Name</th>\n",
       "    </tr>\n",
       "  </thead>\n",
       "  <tbody>\n",
       "    <tr>\n",
       "      <th>0</th>\n",
       "      <td>3</td>\n",
       "      <td>Bubaque</td>\n",
       "      <td>GW</td>\n",
       "      <td>78.55</td>\n",
       "      <td>overcast clouds</td>\n",
       "      <td>11.2833</td>\n",
       "      <td>-15.8333</td>\n",
       "      <td>Casa Dora, Bubaque</td>\n",
       "    </tr>\n",
       "    <tr>\n",
       "      <th>1</th>\n",
       "      <td>4</td>\n",
       "      <td>Vaini</td>\n",
       "      <td>TO</td>\n",
       "      <td>80.11</td>\n",
       "      <td>scattered clouds</td>\n",
       "      <td>-21.2000</td>\n",
       "      <td>-175.2000</td>\n",
       "      <td>Keleti Beach Resort</td>\n",
       "    </tr>\n",
       "    <tr>\n",
       "      <th>2</th>\n",
       "      <td>7</td>\n",
       "      <td>Butaritari</td>\n",
       "      <td>KI</td>\n",
       "      <td>82.38</td>\n",
       "      <td>scattered clouds</td>\n",
       "      <td>3.0707</td>\n",
       "      <td>172.7902</td>\n",
       "      <td>Isles Sunset Lodge</td>\n",
       "    </tr>\n",
       "    <tr>\n",
       "      <th>3</th>\n",
       "      <td>11</td>\n",
       "      <td>Kroya</td>\n",
       "      <td>ID</td>\n",
       "      <td>76.87</td>\n",
       "      <td>scattered clouds</td>\n",
       "      <td>-7.6331</td>\n",
       "      <td>109.2461</td>\n",
       "      <td>RUSTANTO Fam</td>\n",
       "    </tr>\n",
       "    <tr>\n",
       "      <th>4</th>\n",
       "      <td>12</td>\n",
       "      <td>Puerto Ayora</td>\n",
       "      <td>EC</td>\n",
       "      <td>84.16</td>\n",
       "      <td>overcast clouds</td>\n",
       "      <td>-0.7393</td>\n",
       "      <td>-90.3518</td>\n",
       "      <td>Finch Bay Galapagos Hotel</td>\n",
       "    </tr>\n",
       "  </tbody>\n",
       "</table>\n",
       "</div>"
      ],
      "text/plain": [
       "   City_ID          City Country  Max Temp Current Description      Lat  \\\n",
       "0        3       Bubaque      GW     78.55     overcast clouds  11.2833   \n",
       "1        4         Vaini      TO     80.11    scattered clouds -21.2000   \n",
       "2        7    Butaritari      KI     82.38    scattered clouds   3.0707   \n",
       "3       11         Kroya      ID     76.87    scattered clouds  -7.6331   \n",
       "4       12  Puerto Ayora      EC     84.16     overcast clouds  -0.7393   \n",
       "\n",
       "        Lng                 Hotel Name  \n",
       "0  -15.8333         Casa Dora, Bubaque  \n",
       "1 -175.2000        Keleti Beach Resort  \n",
       "2  172.7902         Isles Sunset Lodge  \n",
       "3  109.2461               RUSTANTO Fam  \n",
       "4  -90.3518  Finch Bay Galapagos Hotel  "
      ]
     },
     "execution_count": 30,
     "metadata": {},
     "output_type": "execute_result"
    }
   ],
   "source": [
    "# 1. Read the WeatherPy_vacation.csv into a DataFrame.\n",
    "vacation_df = pd.read_csv(\"../Weather_Database/WeatherPy_vacation.csv\")\n",
    "vacation_df.head()"
   ]
  },
  {
   "cell_type": "code",
   "execution_count": 6,
   "metadata": {},
   "outputs": [],
   "source": [
    "# 2. Using the template add the city name, the country code, the weather description and maximum temperature for the city.\n",
    "info_box_template = \"\"\"\n",
    "<dl>\n",
    "<dt>City Name</dt><dd>{City}</dd>\n",
    "<dt>Country</dt><dd>{Country}</dd>\n",
    "<dt>Current Description</dt><dd>{Current Description}</dd>\n",
    "<dt>Max Temp</dt><dd>{Max Temp} °F</dd>\n",
    "</dl>\n",
    "\"\"\"\n",
    "\n",
    "hotel_df = vacation_df\n",
    "# 3a. Get the data from each row and add it to the formatting template and store the data in a list.\n",
    "hotel_info = [info_box_template.format(**row) for index, row in hotel_df.iterrows()]\n",
    "\n",
    "# 3b. Get the latitude and longitude from each row and store in a new DataFrame.\n",
    "locations = hotel_df[[\"Lat\", \"Lng\"]]"
   ]
  },
  {
   "cell_type": "code",
   "execution_count": 8,
   "metadata": {},
   "outputs": [
    {
     "data": {
      "application/vnd.jupyter.widget-view+json": {
       "model_id": "d43f99723de34342a9c084041d1b8734",
       "version_major": 2,
       "version_minor": 0
      },
      "text/plain": [
       "Figure(layout=FigureLayout(height='420px'))"
      ]
     },
     "metadata": {},
     "output_type": "display_data"
    }
   ],
   "source": [
    "# 4a. Add a marker layer for each city to the map.\n",
    "locations = hotel_df[[\"Lat\", \"Lng\"]]\n",
    "fig = gmaps.figure(center=(30.0, 31.0), zoom_level=1.5)\n",
    "marker_layer = gmaps.marker_layer(locations, info_box_content=hotel_info)\n",
    "fig.add_layer(marker_layer)\n",
    "\n",
    "# 4b. Display the figure\n",
    "fig\n"
   ]
  },
  {
   "cell_type": "code",
   "execution_count": 49,
   "metadata": {},
   "outputs": [],
   "source": [
    "# From the map above pick 4 cities and create a vacation itinerary route to travel between the four cities. \n",
    "# 5. Create DataFrames for each city by filtering the 'vacation_df' using the loc method. \n",
    "# Hint: The starting and ending city should be the same city.\n",
    "vacation_df = hotel_df\n",
    "# Canberra, Flinders, Ulladulla, Batermans Bay \n",
    "\n",
    "vacation_start = hotel_df[hotel_df[\"City\"] == \"Canberra\"]\n",
    "vacation_end = hotel_df[hotel_df[\"City\"] == \"Canberra\"]\n",
    "vacation_stop1 = hotel_df[hotel_df[\"City\"] == \"Flinders\"]\n",
    "vacation_stop2 = hotel_df[hotel_df[\"City\"] == \"Ulladulla\"]\n",
    "vacation_stop3 = hotel_df[hotel_df[\"City\"] == \"Batemans Bay\"]"
   ]
  },
  {
   "cell_type": "code",
   "execution_count": 61,
   "metadata": {},
   "outputs": [
    {
     "data": {
      "text/plain": [
       "[(-35.2835, 149.1281)]"
      ]
     },
     "execution_count": 61,
     "metadata": {},
     "output_type": "execute_result"
    }
   ],
   "source": [
    "start_lat = hotel_df[hotel_df[\"City\"] == \"Canberra\"][\"Lat\"]\n",
    "start_lng =  hotel_df[hotel_df[\"City\"] == \"Canberra\"][\"Lng\"]\n",
    "\n",
    "general = zip(start_lat, start_lng)\n",
    "list(general)"
   ]
  },
  {
   "cell_type": "code",
   "execution_count": 72,
   "metadata": {},
   "outputs": [],
   "source": [
    "# 6. Get the latitude-longitude pairs as tuples from each city DataFrame using the to_numpy function and list indexing.\n",
    "#Start\n",
    "start_lat = hotel_df[hotel_df[\"City\"] == \"Canberra\"][\"Lat\"]\n",
    "start_lng =  hotel_df[hotel_df[\"City\"] == \"Canberra\"][\"Lng\"]\n",
    "\n",
    "start = zip(start_lat, start_lng)\n",
    "\n",
    "# End\n",
    "end_lat = hotel_df[hotel_df[\"City\"] == \"Canberra\"][\"Lat\"]\n",
    "end_lng =  hotel_df[hotel_df[\"City\"] == \"Canberra\"][\"Lng\"]\n",
    "\n",
    "end = zip(end_lat, end_lng)\n",
    "\n",
    "# Stop 1\n",
    "s1_lat = hotel_df[hotel_df[\"City\"] == \"Flinders\"][\"Lat\"]\n",
    "s1_lng = hotel_df[hotel_df[\"City\"] == \"Flinders\"][\"Lng\"]\n",
    "\n",
    "stop1 = zip(s1_lat,s1_lng)\n",
    "\n",
    "# Stop 2\n",
    "s2_lat = hotel_df[hotel_df[\"City\"] == \"Ulladulla\"][\"Lat\"]\n",
    "s2_lng = hotel_df[hotel_df[\"City\"] == \"Ulladulla\"][\"Lng\"]\n",
    "\n",
    "stop2 = zip(s2_lat,s2_lng)\n",
    "\n",
    "# Stop 3 \n",
    "s3_lat = hotel_df[hotel_df[\"City\"] == \"Batemans Bay\"][\"Lat\"]\n",
    "s3_lng = hotel_df[hotel_df[\"City\"] == \"Batemans Bay\"][\"Lng\"]\n",
    "\n",
    "stop3 = zip(s3_lat,s3_lng)"
   ]
  },
  {
   "cell_type": "code",
   "execution_count": 73,
   "metadata": {},
   "outputs": [
    {
     "name": "stdout",
     "output_type": "stream",
     "text": [
      "[(-35.2835, 149.1281)]\n",
      "[(-35.2835, 149.1281)]\n",
      "[(-34.5833, 150.8552)]\n",
      "[(-35.35, 150.4667)]\n",
      "[(-35.7167, 150.1833)]\n"
     ]
    }
   ],
   "source": [
    "start1 = list(start)\n",
    "end1 = list(end)\n",
    "s1 = list(stop1)\n",
    "s2= list(stop2)\n",
    "s3 = list(stop3)\n",
    "\n",
    "print(start1)\n",
    "print(end1)\n",
    "print(s1)\n",
    "print(s2)\n",
    "print(s3)"
   ]
  },
  {
   "cell_type": "code",
   "execution_count": 79,
   "metadata": {},
   "outputs": [
    {
     "data": {
      "application/vnd.jupyter.widget-view+json": {
       "model_id": "7996b0e3e4d741bd812456b6a400a499",
       "version_major": 2,
       "version_minor": 0
      },
      "text/plain": [
       "Figure(layout=FigureLayout(height='420px'))"
      ]
     },
     "metadata": {},
     "output_type": "display_data"
    }
   ],
   "source": [
    "# 7. Create a direction layer map using the start and end latitude-longitude pairs,\n",
    "# and stop1, stop2, and stop3 as the waypoints. The travel_mode should be \"DRIVING\", \"BICYCLING\", or \"WALKING\".\n",
    "start = (-35.2835, 149.1281)\n",
    "end = (-35.2835, 149.1281)\n",
    "s1 = (-34.5833, 150.8552)\n",
    "s2 = (-35.35, 150.4667)\n",
    "s3 = (-35.7167, 150.1833)\n",
    "\n",
    "fig = gmaps.figure()\n",
    "aus_maps = gmaps.directions_layer(start,end,waypoints=[s1,s2,s3], travel_mode = 'DRIVING')\n",
    "fig.add_layer(aus_maps)\n",
    "fig"
   ]
  },
  {
   "cell_type": "code",
   "execution_count": 80,
   "metadata": {},
   "outputs": [
    {
     "data": {
      "text/html": [
       "<div>\n",
       "<style scoped>\n",
       "    .dataframe tbody tr th:only-of-type {\n",
       "        vertical-align: middle;\n",
       "    }\n",
       "\n",
       "    .dataframe tbody tr th {\n",
       "        vertical-align: top;\n",
       "    }\n",
       "\n",
       "    .dataframe thead th {\n",
       "        text-align: right;\n",
       "    }\n",
       "</style>\n",
       "<table border=\"1\" class=\"dataframe\">\n",
       "  <thead>\n",
       "    <tr style=\"text-align: right;\">\n",
       "      <th></th>\n",
       "      <th>City_ID</th>\n",
       "      <th>City</th>\n",
       "      <th>Country</th>\n",
       "      <th>Max Temp</th>\n",
       "      <th>Current Description</th>\n",
       "      <th>Lat</th>\n",
       "      <th>Lng</th>\n",
       "      <th>Hotel Name</th>\n",
       "    </tr>\n",
       "  </thead>\n",
       "  <tbody>\n",
       "    <tr>\n",
       "      <th>0</th>\n",
       "      <td>13</td>\n",
       "      <td>Canberra</td>\n",
       "      <td>AU</td>\n",
       "      <td>76.44</td>\n",
       "      <td>broken clouds</td>\n",
       "      <td>-35.2835</td>\n",
       "      <td>149.1281</td>\n",
       "      <td>Novotel Canberra</td>\n",
       "    </tr>\n",
       "    <tr>\n",
       "      <th>1</th>\n",
       "      <td>21</td>\n",
       "      <td>Flinders</td>\n",
       "      <td>AU</td>\n",
       "      <td>76.37</td>\n",
       "      <td>few clouds</td>\n",
       "      <td>-34.5833</td>\n",
       "      <td>150.8552</td>\n",
       "      <td>Shellharbour Resort &amp; Conference Centre</td>\n",
       "    </tr>\n",
       "    <tr>\n",
       "      <th>2</th>\n",
       "      <td>627</td>\n",
       "      <td>Ulladulla</td>\n",
       "      <td>AU</td>\n",
       "      <td>79.77</td>\n",
       "      <td>scattered clouds</td>\n",
       "      <td>-35.3500</td>\n",
       "      <td>150.4667</td>\n",
       "      <td>Sandpiper Motel</td>\n",
       "    </tr>\n",
       "    <tr>\n",
       "      <th>3</th>\n",
       "      <td>170</td>\n",
       "      <td>Batemans Bay</td>\n",
       "      <td>AU</td>\n",
       "      <td>78.98</td>\n",
       "      <td>broken clouds</td>\n",
       "      <td>-35.7167</td>\n",
       "      <td>150.1833</td>\n",
       "      <td>Batemans Bay Marina Resort</td>\n",
       "    </tr>\n",
       "  </tbody>\n",
       "</table>\n",
       "</div>"
      ],
      "text/plain": [
       "   City_ID          City Country  Max Temp Current Description      Lat  \\\n",
       "0       13      Canberra      AU     76.44       broken clouds -35.2835   \n",
       "1       21      Flinders      AU     76.37          few clouds -34.5833   \n",
       "2      627     Ulladulla      AU     79.77    scattered clouds -35.3500   \n",
       "3      170  Batemans Bay      AU     78.98       broken clouds -35.7167   \n",
       "\n",
       "        Lng                               Hotel Name  \n",
       "0  149.1281                         Novotel Canberra  \n",
       "1  150.8552  Shellharbour Resort & Conference Centre  \n",
       "2  150.4667                          Sandpiper Motel  \n",
       "3  150.1833               Batemans Bay Marina Resort  "
      ]
     },
     "execution_count": 80,
     "metadata": {},
     "output_type": "execute_result"
    }
   ],
   "source": [
    "# 8. To create a marker layer map between the four cities.\n",
    "#  Combine the four city DataFrames into one DataFrame using the concat() function.\n",
    "itinerary_df = pd.concat([vacation_start, vacation_stop1, vacation_stop2, vacation_stop3],ignore_index=True)\n",
    "itinerary_df"
   ]
  },
  {
   "cell_type": "code",
   "execution_count": 81,
   "metadata": {},
   "outputs": [],
   "source": [
    "# 9 Using the template add city name, the country code, the weather description and maximum temperature for the city. \n",
    "info_box_template = \"\"\"\n",
    "<dl>\n",
    "<dt>City Name</dt><dd>{City}</dd>\n",
    "<dt>Country</dt><dd>{Country}</dd>\n",
    "<dt>Current Description</dt><dd>{Current Description}</dd>\n",
    "<dt>Max Temp</dt><dd>{Max Temp} °F</dd>\n",
    "</dl>\n",
    "\"\"\"\n",
    "\n",
    "# 10a Get the data from each row and add it to the formatting template and store the data in a list.\n",
    "hotel_info = [info_box_template.format(**row) for index, row in itinerary_df.iterrows()]\n",
    "\n",
    "# 10b. Get the latitude and longitude from each row and store in a new DataFrame.\n",
    "locations = itinerary_df[[\"Lat\", \"Lng\"]]"
   ]
  },
  {
   "cell_type": "code",
   "execution_count": 85,
   "metadata": {},
   "outputs": [
    {
     "data": {
      "application/vnd.jupyter.widget-view+json": {
       "model_id": "34722bf56b3f4d5f9183fe7e1aa62bdd",
       "version_major": 2,
       "version_minor": 0
      },
      "text/plain": [
       "Figure(layout=FigureLayout(height='420px'))"
      ]
     },
     "metadata": {},
     "output_type": "display_data"
    }
   ],
   "source": [
    "# 11a. Add a marker layer for each city to the map.\n",
    "locations = itinerary_df[[\"Lat\", \"Lng\"]]\n",
    "fig = gmaps.figure(center=(30.0, 31.0), zoom_level=1.5)\n",
    "marker_layer = gmaps.marker_layer(locations, info_box_content=hotel_info)\n",
    "fig.add_layer(marker_layer)\n",
    "\n",
    "# 11b. Display the figure\n",
    "fig"
   ]
  },
  {
   "cell_type": "code",
   "execution_count": null,
   "metadata": {},
   "outputs": [],
   "source": []
  }
 ],
 "metadata": {
  "kernelspec": {
   "display_name": "PythonData",
   "language": "python",
   "name": "pythondata"
  },
  "language_info": {
   "codemirror_mode": {
    "name": "ipython",
    "version": 3
   },
   "file_extension": ".py",
   "mimetype": "text/x-python",
   "name": "python",
   "nbconvert_exporter": "python",
   "pygments_lexer": "ipython3",
   "version": "3.9.7"
  },
  "latex_envs": {
   "LaTeX_envs_menu_present": true,
   "autoclose": false,
   "autocomplete": true,
   "bibliofile": "biblio.bib",
   "cite_by": "apalike",
   "current_citInitial": 1,
   "eqLabelWithNumbers": true,
   "eqNumInitial": 1,
   "hotkeys": {
    "equation": "Ctrl-E",
    "itemize": "Ctrl-I"
   },
   "labels_anchors": false,
   "latex_user_defs": false,
   "report_style_numbering": false,
   "user_envs_cfg": false
  }
 },
 "nbformat": 4,
 "nbformat_minor": 2
}
